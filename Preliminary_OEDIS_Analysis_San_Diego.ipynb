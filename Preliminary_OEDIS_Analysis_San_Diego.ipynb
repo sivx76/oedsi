{
  "nbformat": 4,
  "nbformat_minor": 0,
  "metadata": {
    "colab": {
      "name": "Preliminary OEDIS Analysis - San Diego.ipynb",
      "version": "0.3.2",
      "provenance": [],
      "collapsed_sections": [],
      "include_colab_link": true
    },
    "kernelspec": {
      "name": "python3",
      "display_name": "Python 3"
    }
  },
  "cells": [
    {
      "cell_type": "markdown",
      "metadata": {
        "id": "view-in-github",
        "colab_type": "text"
      },
      "source": [
        "<a href=\"https://colab.research.google.com/github/sivx76/oedsi-test/blob/gh-pages/Preliminary_OEDIS_Analysis_San_Diego.ipynb\" target=\"_parent\"><img src=\"https://colab.research.google.com/assets/colab-badge.svg\" alt=\"Open In Colab\"/></a>"
      ]
    },
    {
      "metadata": {
        "id": "FJ0v9RrIBAUo",
        "colab_type": "text"
      },
      "cell_type": "markdown",
      "source": [
        "# Importing CSV"
      ]
    },
    {
      "metadata": {
        "id": "t5v1dBlSORoA",
        "colab_type": "code",
        "colab": {}
      },
      "cell_type": "code",
      "source": [
        "\n",
        "import pandas as pd\n",
        "from google.colab import files #https://colab.research.google.com/notebooks/io.ipynb#scrollTo=BaCkyg5CV5jF\n",
        "import io #https://www.kdnuggets.com/2018/02/essential-google-colaboratory-tips-tricks.html\n",
        "\n",
        "\n",
        "#df = pd.read_csv('Test_SD_HighSchools_Dataset.csv')"
      ],
      "execution_count": 0,
      "outputs": []
    },
    {
      "metadata": {
        "id": "fbSeSf6SRttS",
        "colab_type": "code",
        "colab": {
          "resources": {
            "http://localhost:8080/nbextensions/google.colab/files.js": {
              "data": "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",
              "ok": true,
              "headers": [
                [
                  "content-type",
                  "application/javascript"
                ]
              ],
              "status": 200,
              "status_text": "OK"
            }
          },
          "base_uri": "https://localhost:8080/",
          "height": 70
        },
        "outputId": "7ab445aa-8d28-4487-b27f-7640458e9482"
      },
      "cell_type": "code",
      "source": [
        "uploaded = files.upload()"
      ],
      "execution_count": 2,
      "outputs": [
        {
          "output_type": "display_data",
          "data": {
            "text/html": [
              "\n",
              "     <input type=\"file\" id=\"files-5bc14ad4-b34e-42bb-bf3d-56237c8a6c89\" name=\"files[]\" multiple disabled />\n",
              "     <output id=\"result-5bc14ad4-b34e-42bb-bf3d-56237c8a6c89\">\n",
              "      Upload widget is only available when the cell has been executed in the\n",
              "      current browser session. Please rerun this cell to enable.\n",
              "      </output>\n",
              "      <script src=\"/nbextensions/google.colab/files.js\"></script> "
            ],
            "text/plain": [
              "<IPython.core.display.HTML object>"
            ]
          },
          "metadata": {
            "tags": []
          }
        },
        {
          "output_type": "stream",
          "text": [
            "Saving Test_SD_HighSchools_Dataset.csv to Test_SD_HighSchools_Dataset.csv\n"
          ],
          "name": "stdout"
        }
      ]
    },
    {
      "metadata": {
        "id": "lzAbTtWXSl0k",
        "colab_type": "code",
        "colab": {
          "base_uri": "https://localhost:8080/",
          "height": 34
        },
        "outputId": "6c1a2e23-21bd-44de-e97a-f0935a10bab6"
      },
      "cell_type": "code",
      "source": [
        "for fn in uploaded.keys():\n",
        "  print('User uploaded file \"{name}\" with length {length} bytes'.format(\n",
        "      name=fn, length=len(uploaded[fn])))"
      ],
      "execution_count": 3,
      "outputs": [
        {
          "output_type": "stream",
          "text": [
            "User uploaded file \"Test_SD_HighSchools_Dataset.csv\" with length 2702 bytes\n"
          ],
          "name": "stdout"
        }
      ]
    },
    {
      "metadata": {
        "id": "TlpA-jB9SXS2",
        "colab_type": "code",
        "colab": {}
      },
      "cell_type": "code",
      "source": [
        "df = pd.read_csv(io.StringIO(uploaded['Test_SD_HighSchools_Dataset.csv'].decode('utf-8')))"
      ],
      "execution_count": 0,
      "outputs": []
    },
    {
      "metadata": {
        "id": "zd4L3dePBJLg",
        "colab_type": "text"
      },
      "cell_type": "markdown",
      "source": [
        "# Display DataFrame: San Diego Unified, n = 17 high schools"
      ]
    },
    {
      "metadata": {
        "id": "rsR2ACQmTVLZ",
        "colab_type": "code",
        "colab": {
          "base_uri": "https://localhost:8080/",
          "height": 1297
        },
        "outputId": "6c859273-ced4-4a5f-dd5b-7589d8693895"
      },
      "cell_type": "code",
      "source": [
        "df"
      ],
      "execution_count": 5,
      "outputs": [
        {
          "output_type": "execute_result",
          "data": {
            "text/html": [
              "<div>\n",
              "<style scoped>\n",
              "    .dataframe tbody tr th:only-of-type {\n",
              "        vertical-align: middle;\n",
              "    }\n",
              "\n",
              "    .dataframe tbody tr th {\n",
              "        vertical-align: top;\n",
              "    }\n",
              "\n",
              "    .dataframe thead th {\n",
              "        text-align: right;\n",
              "    }\n",
              "</style>\n",
              "<table border=\"1\" class=\"dataframe\">\n",
              "  <thead>\n",
              "    <tr style=\"text-align: right;\">\n",
              "      <th></th>\n",
              "      <th>School Name</th>\n",
              "      <th>District</th>\n",
              "      <th>Grade Level (elem/middle/high)</th>\n",
              "      <th>Address</th>\n",
              "      <th>Title I School?</th>\n",
              "      <th>Total Student Enrollment</th>\n",
              "      <th>Total Expenditure Per Pupil (USD)</th>\n",
              "      <th>Student: Teacher Ratio</th>\n",
              "      <th>Free and reduced lunch %</th>\n",
              "      <th>Students in AP Classes %</th>\n",
              "      <th>Number of AP Classes Offered</th>\n",
              "      <th>English State Standards %</th>\n",
              "      <th>Math State Standards %</th>\n",
              "      <th>Science State Standards %</th>\n",
              "      <th>Attendance %</th>\n",
              "      <th>Graduation %</th>\n",
              "      <th>Dropout %</th>\n",
              "      <th>Average Teacher Salary</th>\n",
              "    </tr>\n",
              "  </thead>\n",
              "  <tbody>\n",
              "    <tr>\n",
              "      <th>0</th>\n",
              "      <td>Clairemont</td>\n",
              "      <td>San Diego Unified (19)</td>\n",
              "      <td>High School</td>\n",
              "      <td>4150 Ute Dr. (92117)</td>\n",
              "      <td>NaN</td>\n",
              "      <td>958</td>\n",
              "      <td>10116</td>\n",
              "      <td>17.5</td>\n",
              "      <td>56.0</td>\n",
              "      <td>20.3</td>\n",
              "      <td>7</td>\n",
              "      <td>57.67</td>\n",
              "      <td>26.85</td>\n",
              "      <td>46</td>\n",
              "      <td>94.55</td>\n",
              "      <td>90.0</td>\n",
              "      <td>9.7</td>\n",
              "      <td>73830</td>\n",
              "    </tr>\n",
              "    <tr>\n",
              "      <th>1</th>\n",
              "      <td>Crawford</td>\n",
              "      <td>San Diego Unified (19)</td>\n",
              "      <td>High School</td>\n",
              "      <td>4191 Colts Way (92115)</td>\n",
              "      <td>Y</td>\n",
              "      <td>1099</td>\n",
              "      <td>9811</td>\n",
              "      <td>17.8</td>\n",
              "      <td>96.7</td>\n",
              "      <td>19.1</td>\n",
              "      <td>10</td>\n",
              "      <td>13.30</td>\n",
              "      <td>36.90</td>\n",
              "      <td>33</td>\n",
              "      <td>94.29</td>\n",
              "      <td>75.8</td>\n",
              "      <td>9.7</td>\n",
              "      <td>76455</td>\n",
              "    </tr>\n",
              "    <tr>\n",
              "      <th>2</th>\n",
              "      <td>Henry</td>\n",
              "      <td>San Diego Unified (19)</td>\n",
              "      <td>High School</td>\n",
              "      <td>6702 Wandermere Dr. (92120)</td>\n",
              "      <td>NaN</td>\n",
              "      <td>2391</td>\n",
              "      <td>6679</td>\n",
              "      <td>24.3</td>\n",
              "      <td>40.0</td>\n",
              "      <td>38.1</td>\n",
              "      <td>19</td>\n",
              "      <td>82.20</td>\n",
              "      <td>54.46</td>\n",
              "      <td>68</td>\n",
              "      <td>96.75</td>\n",
              "      <td>97.6</td>\n",
              "      <td>9.7</td>\n",
              "      <td>76581</td>\n",
              "    </tr>\n",
              "    <tr>\n",
              "      <th>3</th>\n",
              "      <td>Hoover</td>\n",
              "      <td>San Diego Unified (19)</td>\n",
              "      <td>High School</td>\n",
              "      <td>4474 El Cajon Blvd. (92115)</td>\n",
              "      <td>NaN</td>\n",
              "      <td>2136</td>\n",
              "      <td>7869</td>\n",
              "      <td>24.4</td>\n",
              "      <td>90.0</td>\n",
              "      <td>17.8</td>\n",
              "      <td>10</td>\n",
              "      <td>45.65</td>\n",
              "      <td>20.32</td>\n",
              "      <td>34</td>\n",
              "      <td>94.60</td>\n",
              "      <td>87.0</td>\n",
              "      <td>9.7</td>\n",
              "      <td>73259</td>\n",
              "    </tr>\n",
              "    <tr>\n",
              "      <th>4</th>\n",
              "      <td>La Jolla</td>\n",
              "      <td>San Diego Unified (19)</td>\n",
              "      <td>High School</td>\n",
              "      <td>750 Nautilus St. (92037)</td>\n",
              "      <td>NaN</td>\n",
              "      <td>1540</td>\n",
              "      <td>7085</td>\n",
              "      <td>25.9</td>\n",
              "      <td>26.0</td>\n",
              "      <td>47.3</td>\n",
              "      <td>18</td>\n",
              "      <td>69.85</td>\n",
              "      <td>51.67</td>\n",
              "      <td>81</td>\n",
              "      <td>96.09</td>\n",
              "      <td>96.2</td>\n",
              "      <td>9.7</td>\n",
              "      <td>80843</td>\n",
              "    </tr>\n",
              "    <tr>\n",
              "      <th>5</th>\n",
              "      <td>Lincoln</td>\n",
              "      <td>San Diego Unified (19)</td>\n",
              "      <td>High School</td>\n",
              "      <td>4777 Imperial Ave. (92113)</td>\n",
              "      <td>NaN</td>\n",
              "      <td>1452</td>\n",
              "      <td>9483</td>\n",
              "      <td>21.6</td>\n",
              "      <td>89.0</td>\n",
              "      <td>21.8</td>\n",
              "      <td>9</td>\n",
              "      <td>25.77</td>\n",
              "      <td>10.38</td>\n",
              "      <td>19</td>\n",
              "      <td>92.87</td>\n",
              "      <td>84.7</td>\n",
              "      <td>9.7</td>\n",
              "      <td>74622</td>\n",
              "    </tr>\n",
              "    <tr>\n",
              "      <th>6</th>\n",
              "      <td>Madison</td>\n",
              "      <td>San Diego Unified (19)</td>\n",
              "      <td>High School</td>\n",
              "      <td>4833 Doliva Dr. (92117)</td>\n",
              "      <td>NaN</td>\n",
              "      <td>1087</td>\n",
              "      <td>8564</td>\n",
              "      <td>19.7</td>\n",
              "      <td>67.0</td>\n",
              "      <td>19.7</td>\n",
              "      <td>8</td>\n",
              "      <td>57.38</td>\n",
              "      <td>23.05</td>\n",
              "      <td>58</td>\n",
              "      <td>95.01</td>\n",
              "      <td>94.1</td>\n",
              "      <td>9.7</td>\n",
              "      <td>76959</td>\n",
              "    </tr>\n",
              "    <tr>\n",
              "      <th>7</th>\n",
              "      <td>Mira Mesa</td>\n",
              "      <td>San Diego Unified (19)</td>\n",
              "      <td>High School</td>\n",
              "      <td>10510 Marauder Way (92126)</td>\n",
              "      <td>NaN</td>\n",
              "      <td>2426</td>\n",
              "      <td>6390</td>\n",
              "      <td>23.7</td>\n",
              "      <td>45.0</td>\n",
              "      <td>35.1</td>\n",
              "      <td>22</td>\n",
              "      <td>84.08</td>\n",
              "      <td>53.24</td>\n",
              "      <td>65</td>\n",
              "      <td>97.00</td>\n",
              "      <td>95.0</td>\n",
              "      <td>9.7</td>\n",
              "      <td>77520</td>\n",
              "    </tr>\n",
              "    <tr>\n",
              "      <th>8</th>\n",
              "      <td>Mission Bay</td>\n",
              "      <td>San Diego Unified (19)</td>\n",
              "      <td>High School</td>\n",
              "      <td>2475 Grand Ave. (92109)</td>\n",
              "      <td>NaN</td>\n",
              "      <td>1055</td>\n",
              "      <td>9302</td>\n",
              "      <td>19.5</td>\n",
              "      <td>67.0</td>\n",
              "      <td>17.6</td>\n",
              "      <td>5</td>\n",
              "      <td>56.13</td>\n",
              "      <td>21.23</td>\n",
              "      <td>48</td>\n",
              "      <td>95.16</td>\n",
              "      <td>94.0</td>\n",
              "      <td>9.7</td>\n",
              "      <td>78986</td>\n",
              "    </tr>\n",
              "    <tr>\n",
              "      <th>9</th>\n",
              "      <td>Morse</td>\n",
              "      <td>San Diego Unified (19)</td>\n",
              "      <td>High School</td>\n",
              "      <td>6905 Skyline Dr. (92114)</td>\n",
              "      <td>NaN</td>\n",
              "      <td>1756</td>\n",
              "      <td>7847</td>\n",
              "      <td>22.4</td>\n",
              "      <td>81.0</td>\n",
              "      <td>17.2</td>\n",
              "      <td>11</td>\n",
              "      <td>57.07</td>\n",
              "      <td>23.16</td>\n",
              "      <td>42</td>\n",
              "      <td>95.52</td>\n",
              "      <td>95.3</td>\n",
              "      <td>9.7</td>\n",
              "      <td>76387</td>\n",
              "    </tr>\n",
              "    <tr>\n",
              "      <th>10</th>\n",
              "      <td>Point Loma</td>\n",
              "      <td>San Diego Unified (19)</td>\n",
              "      <td>High School</td>\n",
              "      <td>2335 Chatsworth Blvd. (92106)</td>\n",
              "      <td>NaN</td>\n",
              "      <td>1954</td>\n",
              "      <td>6847</td>\n",
              "      <td>24.2</td>\n",
              "      <td>41.0</td>\n",
              "      <td>46.7</td>\n",
              "      <td>17</td>\n",
              "      <td>65.63</td>\n",
              "      <td>34.38</td>\n",
              "      <td>59</td>\n",
              "      <td>94.52</td>\n",
              "      <td>96.4</td>\n",
              "      <td>9.7</td>\n",
              "      <td>77588</td>\n",
              "    </tr>\n",
              "    <tr>\n",
              "      <th>11</th>\n",
              "      <td>San Diego - Business and Leadership</td>\n",
              "      <td>San Diego Unified (19)</td>\n",
              "      <td>High School</td>\n",
              "      <td>1405 Park Blvd. (92101)</td>\n",
              "      <td>NaN</td>\n",
              "      <td>616</td>\n",
              "      <td>9235</td>\n",
              "      <td>20.1</td>\n",
              "      <td>79.0</td>\n",
              "      <td>33.9</td>\n",
              "      <td>14</td>\n",
              "      <td>27.78</td>\n",
              "      <td>10.00</td>\n",
              "      <td>29</td>\n",
              "      <td>95.75</td>\n",
              "      <td>78.6</td>\n",
              "      <td>9.7</td>\n",
              "      <td>72370</td>\n",
              "    </tr>\n",
              "    <tr>\n",
              "      <th>12</th>\n",
              "      <td>San Diego - International Studies</td>\n",
              "      <td>San Diego Unified (19)</td>\n",
              "      <td>High School</td>\n",
              "      <td>1405 Park Blvd. (92101)</td>\n",
              "      <td>NaN</td>\n",
              "      <td>1025</td>\n",
              "      <td>6515</td>\n",
              "      <td>24.8</td>\n",
              "      <td>56.0</td>\n",
              "      <td>46.0</td>\n",
              "      <td>7</td>\n",
              "      <td>85.41</td>\n",
              "      <td>46.74</td>\n",
              "      <td>64</td>\n",
              "      <td>97.52</td>\n",
              "      <td>97.0</td>\n",
              "      <td>9.7</td>\n",
              "      <td>75156</td>\n",
              "    </tr>\n",
              "    <tr>\n",
              "      <th>13</th>\n",
              "      <td>San Diego - Science and Technoogy</td>\n",
              "      <td>San Diego Unified (19)</td>\n",
              "      <td>High School</td>\n",
              "      <td>1405 Park Blvd. (92101)</td>\n",
              "      <td>NaN</td>\n",
              "      <td>755</td>\n",
              "      <td>7128</td>\n",
              "      <td>25.1</td>\n",
              "      <td>91.0</td>\n",
              "      <td>22.6</td>\n",
              "      <td>9</td>\n",
              "      <td>50.75</td>\n",
              "      <td>17.42</td>\n",
              "      <td>49</td>\n",
              "      <td>97.71</td>\n",
              "      <td>78.5</td>\n",
              "      <td>9.7</td>\n",
              "      <td>69454</td>\n",
              "    </tr>\n",
              "    <tr>\n",
              "      <th>14</th>\n",
              "      <td>Scripps Ranch</td>\n",
              "      <td>San Diego Unified (19)</td>\n",
              "      <td>High School</td>\n",
              "      <td>10410 Falcon Way (92131)</td>\n",
              "      <td>NaN</td>\n",
              "      <td>2183</td>\n",
              "      <td>6044</td>\n",
              "      <td>25.8</td>\n",
              "      <td>19.0</td>\n",
              "      <td>37.8</td>\n",
              "      <td>16</td>\n",
              "      <td>86.13</td>\n",
              "      <td>66.41</td>\n",
              "      <td>89</td>\n",
              "      <td>96.51</td>\n",
              "      <td>98.9</td>\n",
              "      <td>9.7</td>\n",
              "      <td>78267</td>\n",
              "    </tr>\n",
              "    <tr>\n",
              "      <th>15</th>\n",
              "      <td>Serra</td>\n",
              "      <td>San Diego Unified (19)</td>\n",
              "      <td>High School</td>\n",
              "      <td>5156 Santo Rd. (92124)</td>\n",
              "      <td>NaN</td>\n",
              "      <td>1650</td>\n",
              "      <td>7364</td>\n",
              "      <td>24.4</td>\n",
              "      <td>58.0</td>\n",
              "      <td>46.1</td>\n",
              "      <td>15</td>\n",
              "      <td>69.58</td>\n",
              "      <td>39.60</td>\n",
              "      <td>57</td>\n",
              "      <td>96.01</td>\n",
              "      <td>95.6</td>\n",
              "      <td>9.7</td>\n",
              "      <td>75937</td>\n",
              "    </tr>\n",
              "    <tr>\n",
              "      <th>16</th>\n",
              "      <td>University City</td>\n",
              "      <td>San Diego Unified (19)</td>\n",
              "      <td>High School</td>\n",
              "      <td>6949 Genesee Ave. (92122)</td>\n",
              "      <td>NaN</td>\n",
              "      <td>1799</td>\n",
              "      <td>6469</td>\n",
              "      <td>27.8</td>\n",
              "      <td>40.0</td>\n",
              "      <td>45.3</td>\n",
              "      <td>15</td>\n",
              "      <td>83.41</td>\n",
              "      <td>58.74</td>\n",
              "      <td>73</td>\n",
              "      <td>95.94</td>\n",
              "      <td>97.5</td>\n",
              "      <td>9.7</td>\n",
              "      <td>75417</td>\n",
              "    </tr>\n",
              "  </tbody>\n",
              "</table>\n",
              "</div>"
            ],
            "text/plain": [
              "                            School Name                District  \\\n",
              "0                           Clairemont   San Diego Unified (19)   \n",
              "1                             Crawford   San Diego Unified (19)   \n",
              "2                                Henry   San Diego Unified (19)   \n",
              "3                               Hoover   San Diego Unified (19)   \n",
              "4                             La Jolla   San Diego Unified (19)   \n",
              "5                              Lincoln   San Diego Unified (19)   \n",
              "6                              Madison   San Diego Unified (19)   \n",
              "7                            Mira Mesa   San Diego Unified (19)   \n",
              "8                          Mission Bay   San Diego Unified (19)   \n",
              "9                                Morse   San Diego Unified (19)   \n",
              "10                           Point Loma  San Diego Unified (19)   \n",
              "11  San Diego - Business and Leadership  San Diego Unified (19)   \n",
              "12    San Diego - International Studies  San Diego Unified (19)   \n",
              "13    San Diego - Science and Technoogy  San Diego Unified (19)   \n",
              "14                       Scripps Ranch   San Diego Unified (19)   \n",
              "15                               Serra   San Diego Unified (19)   \n",
              "16                      University City  San Diego Unified (19)   \n",
              "\n",
              "   Grade Level (elem/middle/high)                        Address  \\\n",
              "0                     High School           4150 Ute Dr. (92117)   \n",
              "1                     High School         4191 Colts Way (92115)   \n",
              "2                     High School    6702 Wandermere Dr. (92120)   \n",
              "3                     High School    4474 El Cajon Blvd. (92115)   \n",
              "4                     High School       750 Nautilus St. (92037)   \n",
              "5                     High School     4777 Imperial Ave. (92113)   \n",
              "6                     High School        4833 Doliva Dr. (92117)   \n",
              "7                     High School     10510 Marauder Way (92126)   \n",
              "8                     High School        2475 Grand Ave. (92109)   \n",
              "9                     High School       6905 Skyline Dr. (92114)   \n",
              "10                    High School  2335 Chatsworth Blvd. (92106)   \n",
              "11                    High School        1405 Park Blvd. (92101)   \n",
              "12                    High School        1405 Park Blvd. (92101)   \n",
              "13                    High School        1405 Park Blvd. (92101)   \n",
              "14                    High School       10410 Falcon Way (92131)   \n",
              "15                    High School         5156 Santo Rd. (92124)   \n",
              "16                    High School      6949 Genesee Ave. (92122)   \n",
              "\n",
              "   Title I School?  Total Student Enrollment  \\\n",
              "0              NaN                       958   \n",
              "1                Y                      1099   \n",
              "2              NaN                      2391   \n",
              "3              NaN                      2136   \n",
              "4              NaN                      1540   \n",
              "5              NaN                      1452   \n",
              "6              NaN                      1087   \n",
              "7              NaN                      2426   \n",
              "8              NaN                      1055   \n",
              "9              NaN                      1756   \n",
              "10             NaN                      1954   \n",
              "11             NaN                       616   \n",
              "12             NaN                      1025   \n",
              "13             NaN                       755   \n",
              "14             NaN                      2183   \n",
              "15             NaN                      1650   \n",
              "16             NaN                      1799   \n",
              "\n",
              "    Total Expenditure Per Pupil (USD)  Student: Teacher Ratio  \\\n",
              "0                               10116                    17.5   \n",
              "1                                9811                    17.8   \n",
              "2                                6679                    24.3   \n",
              "3                                7869                    24.4   \n",
              "4                                7085                    25.9   \n",
              "5                                9483                    21.6   \n",
              "6                                8564                    19.7   \n",
              "7                                6390                    23.7   \n",
              "8                                9302                    19.5   \n",
              "9                                7847                    22.4   \n",
              "10                               6847                    24.2   \n",
              "11                               9235                    20.1   \n",
              "12                               6515                    24.8   \n",
              "13                               7128                    25.1   \n",
              "14                               6044                    25.8   \n",
              "15                               7364                    24.4   \n",
              "16                               6469                    27.8   \n",
              "\n",
              "    Free and reduced lunch %  Students in AP Classes %  \\\n",
              "0                       56.0                      20.3   \n",
              "1                       96.7                      19.1   \n",
              "2                       40.0                      38.1   \n",
              "3                       90.0                      17.8   \n",
              "4                       26.0                      47.3   \n",
              "5                       89.0                      21.8   \n",
              "6                       67.0                      19.7   \n",
              "7                       45.0                      35.1   \n",
              "8                       67.0                      17.6   \n",
              "9                       81.0                      17.2   \n",
              "10                      41.0                      46.7   \n",
              "11                      79.0                      33.9   \n",
              "12                      56.0                      46.0   \n",
              "13                      91.0                      22.6   \n",
              "14                      19.0                      37.8   \n",
              "15                      58.0                      46.1   \n",
              "16                      40.0                      45.3   \n",
              "\n",
              "    Number of AP Classes Offered  English State Standards %  \\\n",
              "0                              7                      57.67   \n",
              "1                             10                      13.30   \n",
              "2                             19                      82.20   \n",
              "3                             10                      45.65   \n",
              "4                             18                      69.85   \n",
              "5                              9                      25.77   \n",
              "6                              8                      57.38   \n",
              "7                             22                      84.08   \n",
              "8                              5                      56.13   \n",
              "9                             11                      57.07   \n",
              "10                            17                      65.63   \n",
              "11                            14                      27.78   \n",
              "12                             7                      85.41   \n",
              "13                             9                      50.75   \n",
              "14                            16                      86.13   \n",
              "15                            15                      69.58   \n",
              "16                            15                      83.41   \n",
              "\n",
              "    Math State Standards %  Science State Standards %  Attendance %  \\\n",
              "0                    26.85                         46         94.55   \n",
              "1                    36.90                         33         94.29   \n",
              "2                    54.46                         68         96.75   \n",
              "3                    20.32                         34         94.60   \n",
              "4                    51.67                         81         96.09   \n",
              "5                    10.38                         19         92.87   \n",
              "6                    23.05                         58         95.01   \n",
              "7                    53.24                         65         97.00   \n",
              "8                    21.23                         48         95.16   \n",
              "9                    23.16                         42         95.52   \n",
              "10                   34.38                         59         94.52   \n",
              "11                   10.00                         29         95.75   \n",
              "12                   46.74                         64         97.52   \n",
              "13                   17.42                         49         97.71   \n",
              "14                   66.41                         89         96.51   \n",
              "15                   39.60                         57         96.01   \n",
              "16                   58.74                         73         95.94   \n",
              "\n",
              "    Graduation %  Dropout %  Average Teacher Salary  \n",
              "0           90.0        9.7                   73830  \n",
              "1           75.8        9.7                   76455  \n",
              "2           97.6        9.7                   76581  \n",
              "3           87.0        9.7                   73259  \n",
              "4           96.2        9.7                   80843  \n",
              "5           84.7        9.7                   74622  \n",
              "6           94.1        9.7                   76959  \n",
              "7           95.0        9.7                   77520  \n",
              "8           94.0        9.7                   78986  \n",
              "9           95.3        9.7                   76387  \n",
              "10          96.4        9.7                   77588  \n",
              "11          78.6        9.7                   72370  \n",
              "12          97.0        9.7                   75156  \n",
              "13          78.5        9.7                   69454  \n",
              "14          98.9        9.7                   78267  \n",
              "15          95.6        9.7                   75937  \n",
              "16          97.5        9.7                   75417  "
            ]
          },
          "metadata": {
            "tags": []
          },
          "execution_count": 5
        }
      ]
    },
    {
      "metadata": {
        "id": "Oe-W-0GZTaU3",
        "colab_type": "code",
        "colab": {
          "base_uri": "https://localhost:8080/",
          "height": 416
        },
        "outputId": "ec8729fc-3045-495f-f0f7-508f3827dd86"
      },
      "cell_type": "code",
      "source": [
        "df.info()"
      ],
      "execution_count": 6,
      "outputs": [
        {
          "output_type": "stream",
          "text": [
            "<class 'pandas.core.frame.DataFrame'>\n",
            "RangeIndex: 17 entries, 0 to 16\n",
            "Data columns (total 18 columns):\n",
            "School Name                          17 non-null object\n",
            "District                             17 non-null object\n",
            "Grade Level (elem/middle/high)       17 non-null object\n",
            "Address                              17 non-null object\n",
            "Title I School?                      1 non-null object\n",
            "Total Student Enrollment             17 non-null int64\n",
            "Total Expenditure Per Pupil (USD)    17 non-null int64\n",
            "Student: Teacher Ratio               17 non-null float64\n",
            "Free and reduced lunch %             17 non-null float64\n",
            "Students in AP Classes %             17 non-null float64\n",
            "Number of AP Classes Offered         17 non-null int64\n",
            "English State Standards %            17 non-null float64\n",
            "Math State Standards %               17 non-null float64\n",
            "Science State Standards %            17 non-null int64\n",
            "Attendance %                         17 non-null float64\n",
            "Graduation %                         17 non-null float64\n",
            "Dropout %                            17 non-null float64\n",
            "Average Teacher Salary               17 non-null int64\n",
            "dtypes: float64(8), int64(5), object(5)\n",
            "memory usage: 2.5+ KB\n"
          ],
          "name": "stdout"
        }
      ]
    },
    {
      "metadata": {
        "id": "p9Px8U72AdJ7",
        "colab_type": "code",
        "colab": {
          "base_uri": "https://localhost:8080/",
          "height": 372
        },
        "outputId": "9c4e5899-b40e-4b31-ef23-3e7d73d4cc03"
      },
      "cell_type": "code",
      "source": [
        "df.describe()"
      ],
      "execution_count": 7,
      "outputs": [
        {
          "output_type": "execute_result",
          "data": {
            "text/html": [
              "<div>\n",
              "<style scoped>\n",
              "    .dataframe tbody tr th:only-of-type {\n",
              "        vertical-align: middle;\n",
              "    }\n",
              "\n",
              "    .dataframe tbody tr th {\n",
              "        vertical-align: top;\n",
              "    }\n",
              "\n",
              "    .dataframe thead th {\n",
              "        text-align: right;\n",
              "    }\n",
              "</style>\n",
              "<table border=\"1\" class=\"dataframe\">\n",
              "  <thead>\n",
              "    <tr style=\"text-align: right;\">\n",
              "      <th></th>\n",
              "      <th>Total Student Enrollment</th>\n",
              "      <th>Total Expenditure Per Pupil (USD)</th>\n",
              "      <th>Student: Teacher Ratio</th>\n",
              "      <th>Free and reduced lunch %</th>\n",
              "      <th>Students in AP Classes %</th>\n",
              "      <th>Number of AP Classes Offered</th>\n",
              "      <th>English State Standards %</th>\n",
              "      <th>Math State Standards %</th>\n",
              "      <th>Science State Standards %</th>\n",
              "      <th>Attendance %</th>\n",
              "      <th>Graduation %</th>\n",
              "      <th>Dropout %</th>\n",
              "      <th>Average Teacher Salary</th>\n",
              "    </tr>\n",
              "  </thead>\n",
              "  <tbody>\n",
              "    <tr>\n",
              "      <th>count</th>\n",
              "      <td>17.000000</td>\n",
              "      <td>17.000000</td>\n",
              "      <td>17.000000</td>\n",
              "      <td>17.000000</td>\n",
              "      <td>17.000000</td>\n",
              "      <td>17.000000</td>\n",
              "      <td>17.000000</td>\n",
              "      <td>17.000000</td>\n",
              "      <td>17.000000</td>\n",
              "      <td>17.000000</td>\n",
              "      <td>17.000000</td>\n",
              "      <td>17.0</td>\n",
              "      <td>17.000000</td>\n",
              "    </tr>\n",
              "    <tr>\n",
              "      <th>mean</th>\n",
              "      <td>1522.470588</td>\n",
              "      <td>7808.705882</td>\n",
              "      <td>22.882353</td>\n",
              "      <td>61.276471</td>\n",
              "      <td>31.317647</td>\n",
              "      <td>12.470588</td>\n",
              "      <td>59.870000</td>\n",
              "      <td>34.973529</td>\n",
              "      <td>53.764706</td>\n",
              "      <td>95.635294</td>\n",
              "      <td>91.305882</td>\n",
              "      <td>9.7</td>\n",
              "      <td>75860.647059</td>\n",
              "    </tr>\n",
              "    <tr>\n",
              "      <th>std</th>\n",
              "      <td>574.808677</td>\n",
              "      <td>1345.298515</td>\n",
              "      <td>3.014597</td>\n",
              "      <td>23.953328</td>\n",
              "      <td>12.178528</td>\n",
              "      <td>4.913217</td>\n",
              "      <td>22.202786</td>\n",
              "      <td>17.672632</td>\n",
              "      <td>18.942444</td>\n",
              "      <td>1.268863</td>\n",
              "      <td>7.544988</td>\n",
              "      <td>0.0</td>\n",
              "      <td>2678.972073</td>\n",
              "    </tr>\n",
              "    <tr>\n",
              "      <th>min</th>\n",
              "      <td>616.000000</td>\n",
              "      <td>6044.000000</td>\n",
              "      <td>17.500000</td>\n",
              "      <td>19.000000</td>\n",
              "      <td>17.200000</td>\n",
              "      <td>5.000000</td>\n",
              "      <td>13.300000</td>\n",
              "      <td>10.000000</td>\n",
              "      <td>19.000000</td>\n",
              "      <td>92.870000</td>\n",
              "      <td>75.800000</td>\n",
              "      <td>9.7</td>\n",
              "      <td>69454.000000</td>\n",
              "    </tr>\n",
              "    <tr>\n",
              "      <th>25%</th>\n",
              "      <td>1055.000000</td>\n",
              "      <td>6679.000000</td>\n",
              "      <td>20.100000</td>\n",
              "      <td>41.000000</td>\n",
              "      <td>19.700000</td>\n",
              "      <td>9.000000</td>\n",
              "      <td>50.750000</td>\n",
              "      <td>21.230000</td>\n",
              "      <td>42.000000</td>\n",
              "      <td>94.600000</td>\n",
              "      <td>87.000000</td>\n",
              "      <td>9.7</td>\n",
              "      <td>74622.000000</td>\n",
              "    </tr>\n",
              "    <tr>\n",
              "      <th>50%</th>\n",
              "      <td>1540.000000</td>\n",
              "      <td>7364.000000</td>\n",
              "      <td>24.200000</td>\n",
              "      <td>58.000000</td>\n",
              "      <td>33.900000</td>\n",
              "      <td>11.000000</td>\n",
              "      <td>57.670000</td>\n",
              "      <td>34.380000</td>\n",
              "      <td>57.000000</td>\n",
              "      <td>95.750000</td>\n",
              "      <td>95.000000</td>\n",
              "      <td>9.7</td>\n",
              "      <td>76387.000000</td>\n",
              "    </tr>\n",
              "    <tr>\n",
              "      <th>75%</th>\n",
              "      <td>1954.000000</td>\n",
              "      <td>9235.000000</td>\n",
              "      <td>24.800000</td>\n",
              "      <td>81.000000</td>\n",
              "      <td>45.300000</td>\n",
              "      <td>16.000000</td>\n",
              "      <td>82.200000</td>\n",
              "      <td>51.670000</td>\n",
              "      <td>65.000000</td>\n",
              "      <td>96.510000</td>\n",
              "      <td>96.400000</td>\n",
              "      <td>9.7</td>\n",
              "      <td>77520.000000</td>\n",
              "    </tr>\n",
              "    <tr>\n",
              "      <th>max</th>\n",
              "      <td>2426.000000</td>\n",
              "      <td>10116.000000</td>\n",
              "      <td>27.800000</td>\n",
              "      <td>96.700000</td>\n",
              "      <td>47.300000</td>\n",
              "      <td>22.000000</td>\n",
              "      <td>86.130000</td>\n",
              "      <td>66.410000</td>\n",
              "      <td>89.000000</td>\n",
              "      <td>97.710000</td>\n",
              "      <td>98.900000</td>\n",
              "      <td>9.7</td>\n",
              "      <td>80843.000000</td>\n",
              "    </tr>\n",
              "  </tbody>\n",
              "</table>\n",
              "</div>"
            ],
            "text/plain": [
              "       Total Student Enrollment  Total Expenditure Per Pupil (USD)  \\\n",
              "count                 17.000000                          17.000000   \n",
              "mean                1522.470588                        7808.705882   \n",
              "std                  574.808677                        1345.298515   \n",
              "min                  616.000000                        6044.000000   \n",
              "25%                 1055.000000                        6679.000000   \n",
              "50%                 1540.000000                        7364.000000   \n",
              "75%                 1954.000000                        9235.000000   \n",
              "max                 2426.000000                       10116.000000   \n",
              "\n",
              "       Student: Teacher Ratio  Free and reduced lunch %  \\\n",
              "count               17.000000                 17.000000   \n",
              "mean                22.882353                 61.276471   \n",
              "std                  3.014597                 23.953328   \n",
              "min                 17.500000                 19.000000   \n",
              "25%                 20.100000                 41.000000   \n",
              "50%                 24.200000                 58.000000   \n",
              "75%                 24.800000                 81.000000   \n",
              "max                 27.800000                 96.700000   \n",
              "\n",
              "       Students in AP Classes %  Number of AP Classes Offered  \\\n",
              "count                 17.000000                     17.000000   \n",
              "mean                  31.317647                     12.470588   \n",
              "std                   12.178528                      4.913217   \n",
              "min                   17.200000                      5.000000   \n",
              "25%                   19.700000                      9.000000   \n",
              "50%                   33.900000                     11.000000   \n",
              "75%                   45.300000                     16.000000   \n",
              "max                   47.300000                     22.000000   \n",
              "\n",
              "       English State Standards %  Math State Standards %  \\\n",
              "count                  17.000000               17.000000   \n",
              "mean                   59.870000               34.973529   \n",
              "std                    22.202786               17.672632   \n",
              "min                    13.300000               10.000000   \n",
              "25%                    50.750000               21.230000   \n",
              "50%                    57.670000               34.380000   \n",
              "75%                    82.200000               51.670000   \n",
              "max                    86.130000               66.410000   \n",
              "\n",
              "       Science State Standards %  Attendance %  Graduation %  Dropout %  \\\n",
              "count                  17.000000     17.000000     17.000000       17.0   \n",
              "mean                   53.764706     95.635294     91.305882        9.7   \n",
              "std                    18.942444      1.268863      7.544988        0.0   \n",
              "min                    19.000000     92.870000     75.800000        9.7   \n",
              "25%                    42.000000     94.600000     87.000000        9.7   \n",
              "50%                    57.000000     95.750000     95.000000        9.7   \n",
              "75%                    65.000000     96.510000     96.400000        9.7   \n",
              "max                    89.000000     97.710000     98.900000        9.7   \n",
              "\n",
              "       Average Teacher Salary  \n",
              "count               17.000000  \n",
              "mean             75860.647059  \n",
              "std               2678.972073  \n",
              "min              69454.000000  \n",
              "25%              74622.000000  \n",
              "50%              76387.000000  \n",
              "75%              77520.000000  \n",
              "max              80843.000000  "
            ]
          },
          "metadata": {
            "tags": []
          },
          "execution_count": 7
        }
      ]
    },
    {
      "metadata": {
        "id": "S0eWtW73AuSb",
        "colab_type": "code",
        "colab": {
          "base_uri": "https://localhost:8080/",
          "height": 898
        },
        "outputId": "d4aceb22-6d4f-4163-fd07-18b76dc642d0"
      },
      "cell_type": "code",
      "source": [
        "import matplotlib.pyplot as plt\n",
        "df.hist(bins= 50, figsize =(20,15))\n",
        "#save_fig(\"school_data_histogram_plots\")\n",
        "plt.show()"
      ],
      "execution_count": 45,
      "outputs": [
        {
          "output_type": "display_data",
          "data": {
            "image/png": "[encoded data removed]",
            "text/plain": [
              "<matplotlib.figure.Figure at 0x7fa060fedac8>"
            ]
          },
          "metadata": {
            "tags": []
          }
        }
      ]
    },
    {
      "metadata": {
        "id": "HYDRjDj0B7hk",
        "colab_type": "text"
      },
      "cell_type": "markdown",
      "source": [
        "# Plots"
      ]
    },
    {
      "metadata": {
        "id": "VUuceFZlB_Sd",
        "colab_type": "code",
        "colab": {
          "base_uri": "https://localhost:8080/",
          "height": 378
        },
        "outputId": "04e3a0e7-a603-46aa-eb65-cf9d7cf84478"
      },
      "cell_type": "code",
      "source": [
        "df.plot(kind = \"scatter\", x=\"Number of AP Classes Offered\", y=\"Students in AP Classes %\") #vary x and y axes here"
      ],
      "execution_count": 46,
      "outputs": [
        {
          "output_type": "execute_result",
          "data": {
            "text/plain": [
              "<matplotlib.axes._subplots.AxesSubplot at 0x7fa06151eb70>"
            ]
          },
          "metadata": {
            "tags": []
          },
          "execution_count": 46
        },
        {
          "output_type": "display_data",
          "data": {
            "image/png": "[encoded data removed]",
            "text/plain": [
              "<matplotlib.figure.Figure at 0x7fa05e456e48>"
            ]
          },
          "metadata": {
            "tags": []
          }
        }
      ]
    },
    {
      "metadata": {
        "id": "6urQbXmKCa3d",
        "colab_type": "code",
        "colab": {
          "base_uri": "https://localhost:8080/",
          "height": 381
        },
        "outputId": "d4dcc2a7-8fa1-4714-d62b-816c56b27419"
      },
      "cell_type": "code",
      "source": [
        "df.plot(kind = \"scatter\", x=\"Attendance %\", y=\"Graduation %\") #vary x and y axes here"
      ],
      "execution_count": 47,
      "outputs": [
        {
          "output_type": "execute_result",
          "data": {
            "text/plain": [
              "<matplotlib.axes._subplots.AxesSubplot at 0x7fa06120d1d0>"
            ]
          },
          "metadata": {
            "tags": []
          },
          "execution_count": 47
        },
        {
          "output_type": "display_data",
          "data": {
            "image/png": "[encoded data removed]",
            "text/plain": [
              "<matplotlib.figure.Figure at 0x7fa061b8d7f0>"
            ]
          },
          "metadata": {
            "tags": []
          }
        }
      ]
    },
    {
      "metadata": {
        "id": "T-LwobgNCscP",
        "colab_type": "code",
        "colab": {
          "base_uri": "https://localhost:8080/",
          "height": 381
        },
        "outputId": "981a9a8f-66c0-4a97-e320-bdd0fe39f88c"
      },
      "cell_type": "code",
      "source": [
        "df.plot(kind = \"scatter\", x=\"Student: Teacher Ratio\", y=\"Graduation %\") #vary x and y axes here"
      ],
      "execution_count": 48,
      "outputs": [
        {
          "output_type": "execute_result",
          "data": {
            "text/plain": [
              "<matplotlib.axes._subplots.AxesSubplot at 0x7fa0614393c8>"
            ]
          },
          "metadata": {
            "tags": []
          },
          "execution_count": 48
        },
        {
          "output_type": "display_data",
          "data": {
            "image/png": "[encoded data removed]",
            "text/plain": [
              "<matplotlib.figure.Figure at 0x7fa0612c2518>"
            ]
          },
          "metadata": {
            "tags": []
          }
        }
      ]
    },
    {
      "metadata": {
        "id": "BUqMUoe3DDMK",
        "colab_type": "code",
        "colab": {
          "base_uri": "https://localhost:8080/",
          "height": 381
        },
        "outputId": "eeff7512-2566-4eec-a094-6408906bf208"
      },
      "cell_type": "code",
      "source": [
        "df.plot(kind = \"scatter\", x=\"Free and reduced lunch %\", y=\"Graduation %\") #vary x and y axes here"
      ],
      "execution_count": 49,
      "outputs": [
        {
          "output_type": "execute_result",
          "data": {
            "text/plain": [
              "<matplotlib.axes._subplots.AxesSubplot at 0x7fa0619bd9b0>"
            ]
          },
          "metadata": {
            "tags": []
          },
          "execution_count": 49
        },
        {
          "output_type": "display_data",
          "data": {
            "image/png": "[encoded data removed]",
            "text/plain": [
              "<matplotlib.figure.Figure at 0x7fa0614460b8>"
            ]
          },
          "metadata": {
            "tags": []
          }
        }
      ]
    },
    {
      "metadata": {
        "id": "A0goTs0UDMjA",
        "colab_type": "code",
        "colab": {
          "base_uri": "https://localhost:8080/",
          "height": 379
        },
        "outputId": "89def52b-ee44-40ff-a8bc-7fa4e96a8213"
      },
      "cell_type": "code",
      "source": [
        "df.plot(kind = \"scatter\", x=\"Student: Teacher Ratio\", y=\"Total Student Enrollment\") #vary x and y axes here"
      ],
      "execution_count": 50,
      "outputs": [
        {
          "output_type": "execute_result",
          "data": {
            "text/plain": [
              "<matplotlib.axes._subplots.AxesSubplot at 0x7fa061d6d6d8>"
            ]
          },
          "metadata": {
            "tags": []
          },
          "execution_count": 50
        },
        {
          "output_type": "display_data",
          "data": {
            "image/png": "[encoded data removed]",
            "text/plain": [
              "<matplotlib.figure.Figure at 0x7fa061c10208>"
            ]
          },
          "metadata": {
            "tags": []
          }
        }
      ]
    },
    {
      "metadata": {
        "id": "pLdwzIXSDhv_",
        "colab_type": "code",
        "colab": {
          "base_uri": "https://localhost:8080/",
          "height": 378
        },
        "outputId": "877181a1-a358-45c3-e82b-13cba85bd039"
      },
      "cell_type": "code",
      "source": [
        "df.plot(kind = \"scatter\", x=\"Free and reduced lunch %\", y=\"Students in AP Classes %\") #vary x and y axes here"
      ],
      "execution_count": 51,
      "outputs": [
        {
          "output_type": "execute_result",
          "data": {
            "text/plain": [
              "<matplotlib.axes._subplots.AxesSubplot at 0x7fa06134cc88>"
            ]
          },
          "metadata": {
            "tags": []
          },
          "execution_count": 51
        },
        {
          "output_type": "display_data",
          "data": {
            "image/png": "[encoded data removed]",
            "text/plain": [
              "<matplotlib.figure.Figure at 0x7fa061ba7668>"
            ]
          },
          "metadata": {
            "tags": []
          }
        }
      ]
    },
    {
      "metadata": {
        "id": "HP_yCuQcDtpP",
        "colab_type": "code",
        "colab": {
          "base_uri": "https://localhost:8080/",
          "height": 381
        },
        "outputId": "e86973c8-9d0b-4f0d-981f-10d15e012aec"
      },
      "cell_type": "code",
      "source": [
        "df.plot(kind = \"scatter\", x=\"Total Expenditure Per Pupil (USD)\", y=\"Graduation %\") #vary x and y axes here"
      ],
      "execution_count": 52,
      "outputs": [
        {
          "output_type": "execute_result",
          "data": {
            "text/plain": [
              "<matplotlib.axes._subplots.AxesSubplot at 0x7fa061bd6358>"
            ]
          },
          "metadata": {
            "tags": []
          },
          "execution_count": 52
        },
        {
          "output_type": "display_data",
          "data": {
            "image/png": "[encoded data removed]",
            "text/plain": [
              "<matplotlib.figure.Figure at 0x7fa0610db470>"
            ]
          },
          "metadata": {
            "tags": []
          }
        }
      ]
    },
    {
      "metadata": {
        "id": "3zbaDegAD3pS",
        "colab_type": "code",
        "colab": {
          "base_uri": "https://localhost:8080/",
          "height": 722
        },
        "outputId": "f56aa26e-295f-4776-e535-5ad7533f8e9a"
      },
      "cell_type": "code",
      "source": [
        "df.plot(kind = \"scatter\", x=\"Total Expenditure Per Pupil (USD)\", y=\"English State Standards %\") #vary x and y axes here\n",
        "#df.plot(kind = \"scatter\", x=\"Total Expenditure Per Pupil (USD)\", y=\"Math State Standards %\") #vary x and y axes here"
      ],
      "execution_count": 10,
      "outputs": [
        {
          "output_type": "execute_result",
          "data": {
            "text/plain": [
              "<matplotlib.axes._subplots.AxesSubplot at 0x7fe902253eb8>"
            ]
          },
          "metadata": {
            "tags": []
          },
          "execution_count": 10
        },
        {
          "output_type": "display_data",
          "data": {
            "image/png": "[encoded data removed]",
            "text/plain": [
              "<matplotlib.figure.Figure at 0x7fe902306518>"
            ]
          },
          "metadata": {
            "tags": []
          }
        },
        {
          "output_type": "display_data",
          "data": {
            "image/png": "[encoded data removed]",
            "text/plain": [
              "<matplotlib.figure.Figure at 0x7fe902274390>"
            ]
          },
          "metadata": {
            "tags": []
          }
        }
      ]
    },
    {
      "metadata": {
        "id": "UsOGiZ7jD9Gk",
        "colab_type": "code",
        "colab": {
          "base_uri": "https://localhost:8080/",
          "height": 378
        },
        "outputId": "b3c2e489-fc3c-4e58-f3ca-dd62d99b6406"
      },
      "cell_type": "code",
      "source": [
        "df.plot(kind = \"scatter\", x=\"Total Expenditure Per Pupil (USD)\", y=\"Math State Standards %\") #vary x and y axes here"
      ],
      "execution_count": 54,
      "outputs": [
        {
          "output_type": "execute_result",
          "data": {
            "text/plain": [
              "<matplotlib.axes._subplots.AxesSubplot at 0x7fa060fd8ac8>"
            ]
          },
          "metadata": {
            "tags": []
          },
          "execution_count": 54
        },
        {
          "output_type": "display_data",
          "data": {
            "image/png": "[encoded data removed]",
            "text/plain": [
              "<matplotlib.figure.Figure at 0x7fa0615762e8>"
            ]
          },
          "metadata": {
            "tags": []
          }
        }
      ]
    },
    {
      "metadata": {
        "id": "GJCOiNFUEA5b",
        "colab_type": "code",
        "colab": {
          "base_uri": "https://localhost:8080/",
          "height": 378
        },
        "outputId": "678e6d37-5bdc-47a0-ca9a-d7014aa199e0"
      },
      "cell_type": "code",
      "source": [
        "df.plot(kind = \"scatter\", x=\"Total Expenditure Per Pupil (USD)\", y=\"Science State Standards %\") #vary x and y axes here"
      ],
      "execution_count": 55,
      "outputs": [
        {
          "output_type": "execute_result",
          "data": {
            "text/plain": [
              "<matplotlib.axes._subplots.AxesSubplot at 0x7fa060f75080>"
            ]
          },
          "metadata": {
            "tags": []
          },
          "execution_count": 55
        },
        {
          "output_type": "display_data",
          "data": {
            "image/png": "[encoded data removed]",
            "text/plain": [
              "<matplotlib.figure.Figure at 0x7fa0613fb2b0>"
            ]
          },
          "metadata": {
            "tags": []
          }
        }
      ]
    },
    {
      "metadata": {
        "id": "KeTRi2Z1EViz",
        "colab_type": "text"
      },
      "cell_type": "markdown",
      "source": [
        "# Correlation Matrices"
      ]
    },
    {
      "metadata": {
        "id": "rq-2_59LEY-n",
        "colab_type": "code",
        "colab": {
          "base_uri": "https://localhost:8080/",
          "height": 260
        },
        "outputId": "75652e18-167b-4a43-b60d-99c28f2815bb"
      },
      "cell_type": "code",
      "source": [
        "corr_matrix = df.corr()\n",
        "corr_matrix[\"Graduation %\"].sort_values(ascending=False)"
      ],
      "execution_count": 9,
      "outputs": [
        {
          "output_type": "execute_result",
          "data": {
            "text/plain": [
              "Graduation %                         1.000000\n",
              "English State Standards %            0.876128\n",
              "Science State Standards %            0.752964\n",
              "Average Teacher Salary               0.644688\n",
              "Math State Standards %               0.643327\n",
              "Total Student Enrollment             0.583100\n",
              "Students in AP Classes %             0.526523\n",
              "Student: Teacher Ratio               0.489863\n",
              "Number of AP Classes Offered         0.361060\n",
              "Attendance %                         0.280463\n",
              "Total Expenditure Per Pupil (USD)   -0.617393\n",
              "Free and reduced lunch %            -0.799469\n",
              "Dropout %                                 NaN\n",
              "Name: Graduation %, dtype: float64"
            ]
          },
          "metadata": {
            "tags": []
          },
          "execution_count": 9
        }
      ]
    },
    {
      "metadata": {
        "id": "jUygDVK_HCqJ",
        "colab_type": "code",
        "colab": {
          "base_uri": "https://localhost:8080/",
          "height": 260
        },
        "outputId": "b18798a1-015b-427b-dcda-f39cb298d35e"
      },
      "cell_type": "code",
      "source": [
        "corr_matrix[\"Attendance %\"].sort_values(ascending=False)"
      ],
      "execution_count": 58,
      "outputs": [
        {
          "output_type": "execute_result",
          "data": {
            "text/plain": [
              "Attendance %                         1.000000\n",
              "English State Standards %            0.650179\n",
              "Science State Standards %            0.615268\n",
              "Student: Teacher Ratio               0.546072\n",
              "Math State Standards %               0.498971\n",
              "Students in AP Classes %             0.454221\n",
              "Number of AP Classes Offered         0.332317\n",
              "Graduation %                         0.280463\n",
              "Total Student Enrollment             0.086843\n",
              "Average Teacher Salary              -0.079531\n",
              "Free and reduced lunch %            -0.384936\n",
              "Total Expenditure Per Pupil (USD)   -0.707887\n",
              "Dropout %                                 NaN\n",
              "Name: Attendance %, dtype: float64"
            ]
          },
          "metadata": {
            "tags": []
          },
          "execution_count": 58
        }
      ]
    },
    {
      "metadata": {
        "id": "bCtg9TZZHPc3",
        "colab_type": "code",
        "colab": {
          "base_uri": "https://localhost:8080/",
          "height": 260
        },
        "outputId": "87b92ce7-5e87-4a00-df8d-c48cf194fb0a"
      },
      "cell_type": "code",
      "source": [
        "corr_matrix[\"Number of AP Classes Offered\"].sort_values(ascending=False)"
      ],
      "execution_count": 60,
      "outputs": [
        {
          "output_type": "execute_result",
          "data": {
            "text/plain": [
              "Number of AP Classes Offered         1.000000\n",
              "Total Student Enrollment             0.700280\n",
              "Students in AP Classes %             0.647563\n",
              "Math State Standards %               0.623817\n",
              "Student: Teacher Ratio               0.534814\n",
              "Science State Standards %            0.525744\n",
              "English State Standards %            0.459025\n",
              "Graduation %                         0.361060\n",
              "Average Teacher Salary               0.358687\n",
              "Attendance %                         0.332317\n",
              "Free and reduced lunch %            -0.617423\n",
              "Total Expenditure Per Pupil (USD)   -0.628728\n",
              "Dropout %                                 NaN\n",
              "Name: Number of AP Classes Offered, dtype: float64"
            ]
          },
          "metadata": {
            "tags": []
          },
          "execution_count": 60
        }
      ]
    },
    {
      "metadata": {
        "id": "aA_oxMRtHZBq",
        "colab_type": "code",
        "colab": {
          "base_uri": "https://localhost:8080/",
          "height": 260
        },
        "outputId": "ffe29575-4d74-41fc-c307-99e0386f7a77"
      },
      "cell_type": "code",
      "source": [
        "corr_matrix[\"Free and reduced lunch %\"].sort_values(ascending=False)"
      ],
      "execution_count": 61,
      "outputs": [
        {
          "output_type": "execute_result",
          "data": {
            "text/plain": [
              "Free and reduced lunch %             1.000000\n",
              "Total Expenditure Per Pupil (USD)    0.638346\n",
              "Attendance %                        -0.384936\n",
              "Total Student Enrollment            -0.499091\n",
              "Student: Teacher Ratio              -0.513944\n",
              "Number of AP Classes Offered        -0.617423\n",
              "Average Teacher Salary              -0.620402\n",
              "Students in AP Classes %            -0.737579\n",
              "Graduation %                        -0.799469\n",
              "Math State Standards %              -0.817456\n",
              "English State Standards %           -0.827121\n",
              "Science State Standards %           -0.904107\n",
              "Dropout %                                 NaN\n",
              "Name: Free and reduced lunch %, dtype: float64"
            ]
          },
          "metadata": {
            "tags": []
          },
          "execution_count": 61
        }
      ]
    },
    {
      "metadata": {
        "id": "6QGKrln3Hedm",
        "colab_type": "code",
        "colab": {
          "base_uri": "https://localhost:8080/",
          "height": 260
        },
        "outputId": "532fb6f3-672a-446c-bed5-13d3970c89bf"
      },
      "cell_type": "code",
      "source": [
        "corr_matrix[\"Student: Teacher Ratio\"].sort_values(ascending=False)"
      ],
      "execution_count": 62,
      "outputs": [
        {
          "output_type": "execute_result",
          "data": {
            "text/plain": [
              "Student: Teacher Ratio               1.000000\n",
              "Students in AP Classes %             0.674508\n",
              "English State Standards %            0.660095\n",
              "Science State Standards %            0.626413\n",
              "Math State Standards %               0.579837\n",
              "Attendance %                         0.546072\n",
              "Total Student Enrollment             0.541191\n",
              "Number of AP Classes Offered         0.534814\n",
              "Graduation %                         0.489863\n",
              "Average Teacher Salary               0.077591\n",
              "Free and reduced lunch %            -0.513944\n",
              "Total Expenditure Per Pupil (USD)   -0.904735\n",
              "Dropout %                                 NaN\n",
              "Name: Student: Teacher Ratio, dtype: float64"
            ]
          },
          "metadata": {
            "tags": []
          },
          "execution_count": 62
        }
      ]
    },
    {
      "metadata": {
        "id": "Hrr8KxzoHnCD",
        "colab_type": "code",
        "colab": {
          "base_uri": "https://localhost:8080/",
          "height": 260
        },
        "outputId": "bb8f2f16-fb88-40a0-b2b0-419a48a4b879"
      },
      "cell_type": "code",
      "source": [
        "corr_matrix[\"Total Expenditure Per Pupil (USD)\"].sort_values(ascending=False)"
      ],
      "execution_count": 64,
      "outputs": [
        {
          "output_type": "execute_result",
          "data": {
            "text/plain": [
              "Total Expenditure Per Pupil (USD)    1.000000\n",
              "Free and reduced lunch %             0.638346\n",
              "Average Teacher Salary              -0.208728\n",
              "Graduation %                        -0.617393\n",
              "Total Student Enrollment            -0.619090\n",
              "Number of AP Classes Offered        -0.628728\n",
              "Students in AP Classes %            -0.694076\n",
              "Attendance %                        -0.707887\n",
              "Math State Standards %              -0.721967\n",
              "Science State Standards %           -0.775571\n",
              "English State Standards %           -0.818105\n",
              "Student: Teacher Ratio              -0.904735\n",
              "Dropout %                                 NaN\n",
              "Name: Total Expenditure Per Pupil (USD), dtype: float64"
            ]
          },
          "metadata": {
            "tags": []
          },
          "execution_count": 64
        }
      ]
    },
    {
      "metadata": {
        "id": "_5udwYgIHtNN",
        "colab_type": "code",
        "colab": {
          "base_uri": "https://localhost:8080/",
          "height": 260
        },
        "outputId": "354aa2ba-6e74-40c4-c83f-fb12f994d927"
      },
      "cell_type": "code",
      "source": [
        "corr_matrix[\"Dropout %\"].sort_values(ascending=False)"
      ],
      "execution_count": 66,
      "outputs": [
        {
          "output_type": "execute_result",
          "data": {
            "text/plain": [
              "Total Student Enrollment            NaN\n",
              "Total Expenditure Per Pupil (USD)   NaN\n",
              "Student: Teacher Ratio              NaN\n",
              "Free and reduced lunch %            NaN\n",
              "Students in AP Classes %            NaN\n",
              "Number of AP Classes Offered        NaN\n",
              "English State Standards %           NaN\n",
              "Math State Standards %              NaN\n",
              "Science State Standards %           NaN\n",
              "Attendance %                        NaN\n",
              "Graduation %                        NaN\n",
              "Dropout %                           NaN\n",
              "Average Teacher Salary              NaN\n",
              "Name: Dropout %, dtype: float64"
            ]
          },
          "metadata": {
            "tags": []
          },
          "execution_count": 66
        }
      ]
    }
  ]
}